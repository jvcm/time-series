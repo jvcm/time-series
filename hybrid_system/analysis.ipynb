{
 "cells": [
  {
   "cell_type": "code",
   "execution_count": 9,
   "metadata": {},
   "outputs": [],
   "source": [
    "import numpy as np\n",
    "import pandas as pd\n",
    "import matplotlib.pyplot as plt\n",
    "import seaborn as sns\n",
    "sns.set()\n",
    "import os\n",
    "from functions import *"
   ]
  },
  {
   "cell_type": "code",
   "execution_count": 10,
   "metadata": {},
   "outputs": [],
   "source": [
    "input_noise = 2\n",
    "n_models = 30\n",
    "n_metrics = 4"
   ]
  },
  {
   "cell_type": "code",
   "execution_count": 11,
   "metadata": {},
   "outputs": [
    {
     "data": {
      "text/plain": [
       "['Beer']"
      ]
     },
     "execution_count": 11,
     "metadata": {},
     "output_type": "execute_result"
    }
   ],
   "source": [
    "os.listdir('./results/')"
   ]
  },
  {
   "cell_type": "code",
   "execution_count": 12,
   "metadata": {},
   "outputs": [],
   "source": [
    "path = './results/'\n",
    "name = 'Beer/'"
   ]
  },
  {
   "cell_type": "code",
   "execution_count": 14,
   "metadata": {},
   "outputs": [],
   "source": [
    "lnl = pd.read_csv(path + name + 'lnl.csv')\n",
    "model1 = pd.read_csv(path + name + 'model1.csv')\n",
    "model2 = pd.read_csv(path + name + 'model2.csv')\n",
    "rbf = pd.read_csv(path + name + 'rbf.csv')\n",
    "ffann = pd.read_csv(path + name + 'ffann.csv')\n",
    "others = pd.read_csv(path + name + 'other.csv')\n",
    "y = others['Y_true'].values\n",
    "sarima = others['SARIMA'].values\n",
    "wmes = others['WMES'].values"
   ]
  },
  {
   "cell_type": "code",
   "execution_count": 15,
   "metadata": {},
   "outputs": [],
   "source": [
    "lnl_metrics = np.array([[RMSE(y[input_noise + 1:], lnl.iloc[input_noise + 1:, i]) for i in range(n_models)],\n",
    "                [MAPE(y[input_noise + 1:], lnl.iloc[input_noise + 1:, i]) for i in range(n_models)],\n",
    "                [MdAPE(y[input_noise + 1:], lnl.iloc[input_noise + 1:, i]) for i in range(n_models)],\n",
    "                [DA(y[input_noise + 1:], lnl.iloc[input_noise + 1:, i]) for i in range(n_models)]])\n",
    "\n",
    "model1_metrics = np.array([[RMSE(y[input_noise + 1:], model1.iloc[:, i]) for i in range(n_models)],\n",
    "                [MAPE(y[input_noise + 1:], model1.iloc[:, i]) for i in range(n_models)],\n",
    "                [MdAPE(y[input_noise + 1:], model1.iloc[:, i]) for i in range(n_models)],\n",
    "                [DA(y[input_noise + 1:], model1.iloc[:, i]) for i in range(n_models)]])\n",
    "\n",
    "model2_metrics = np.array([[RMSE(y[input_noise + 1:], model2.iloc[input_noise:, i]) for i in range(n_models)],\n",
    "                [MAPE(y[input_noise + 1:], model2.iloc[input_noise:, i]) for i in range(n_models)],\n",
    "                [MdAPE(y[input_noise + 1:], model2.iloc[input_noise:, i]) for i in range(n_models)],\n",
    "                [DA(y[input_noise + 1:], model2.iloc[input_noise:, i]) for i in range(n_models)]])\n",
    "\n",
    "ffann_metrics = np.array([[RMSE(y, ffann.iloc[:, i]) for i in range(n_models)],\n",
    "                [MAPE(y, ffann.iloc[:, i]) for i in range(n_models)],\n",
    "                [MdAPE(y, ffann.iloc[:, i]) for i in range(n_models)],\n",
    "                [DA(y, ffann.iloc[:, i]) for i in range(n_models)]])\n",
    "\n",
    "rbf_metrics = np.array([[RMSE(y, rbf.iloc[:, i]) for i in range(n_models)],\n",
    "                [MAPE(y, rbf.iloc[:, i]) for i in range(n_models)],\n",
    "                [MdAPE(y, rbf.iloc[:, i]) for i in range(n_models)],\n",
    "                [DA(y, rbf.iloc[:, i]) for i in range(n_models)]])\n",
    "\n",
    "sarima_metrics = np.array([RMSE(y, sarima), MAPE(y, sarima), MdAPE(y, sarima), DA(y, sarima)])\n",
    "\n",
    "wmes_metrics = np.array([RMSE(y, wmes), MAPE(y, wmes), MdAPE(y, wmes), DA(y, wmes)])"
   ]
  },
  {
   "cell_type": "code",
   "execution_count": 16,
   "metadata": {},
   "outputs": [],
   "source": [
    "metrics = [ffann_metrics,\n",
    "           rbf_metrics,\n",
    "           lnl_metrics,\n",
    "           model1_metrics,\n",
    "           model2_metrics]\n",
    "\n",
    "model_names = ['FFANN', 'RBF', 'L&NL ANN', 'Model 1', 'Model 2']\n",
    "df_metrics = pd.DataFrame(data= np.zeros((4, len(metrics) + 2)), index = ['RMSE', 'MAPE', 'MdAPE', 'DA'],\n",
    "                          columns= ['SARIMA', 'WMES'] + model_names)\n",
    "df_metrics['SARIMA'] = sarima_metrics\n",
    "df_metrics['WMES'] = wmes_metrics"
   ]
  },
  {
   "cell_type": "markdown",
   "metadata": {},
   "source": [
    "# Mean"
   ]
  },
  {
   "cell_type": "code",
   "execution_count": 17,
   "metadata": {},
   "outputs": [
    {
     "data": {
      "text/html": [
       "<div>\n",
       "<style scoped>\n",
       "    .dataframe tbody tr th:only-of-type {\n",
       "        vertical-align: middle;\n",
       "    }\n",
       "\n",
       "    .dataframe tbody tr th {\n",
       "        vertical-align: top;\n",
       "    }\n",
       "\n",
       "    .dataframe thead th {\n",
       "        text-align: right;\n",
       "    }\n",
       "</style>\n",
       "<table border=\"1\" class=\"dataframe\">\n",
       "  <thead>\n",
       "    <tr style=\"text-align: right;\">\n",
       "      <th></th>\n",
       "      <th>SARIMA</th>\n",
       "      <th>WMES</th>\n",
       "      <th>FFANN</th>\n",
       "      <th>RBF</th>\n",
       "      <th>L&amp;NL ANN</th>\n",
       "      <th>Model 1</th>\n",
       "      <th>Model 2</th>\n",
       "    </tr>\n",
       "  </thead>\n",
       "  <tbody>\n",
       "    <tr>\n",
       "      <th>RMSE</th>\n",
       "      <td>0.153339</td>\n",
       "      <td>0.0</td>\n",
       "      <td>0.161277</td>\n",
       "      <td>0.114311</td>\n",
       "      <td>0.355798</td>\n",
       "      <td>0.319626</td>\n",
       "      <td>0.119180</td>\n",
       "    </tr>\n",
       "    <tr>\n",
       "      <th>MAPE</th>\n",
       "      <td>0.147982</td>\n",
       "      <td>0.0</td>\n",
       "      <td>0.217652</td>\n",
       "      <td>0.135739</td>\n",
       "      <td>0.255313</td>\n",
       "      <td>0.254792</td>\n",
       "      <td>0.160511</td>\n",
       "    </tr>\n",
       "    <tr>\n",
       "      <th>MdAPE</th>\n",
       "      <td>0.087893</td>\n",
       "      <td>0.0</td>\n",
       "      <td>0.198165</td>\n",
       "      <td>0.122787</td>\n",
       "      <td>0.146354</td>\n",
       "      <td>0.145344</td>\n",
       "      <td>0.139695</td>\n",
       "    </tr>\n",
       "    <tr>\n",
       "      <th>DA</th>\n",
       "      <td>0.789474</td>\n",
       "      <td>0.0</td>\n",
       "      <td>0.345614</td>\n",
       "      <td>0.619298</td>\n",
       "      <td>0.568203</td>\n",
       "      <td>0.533333</td>\n",
       "      <td>0.575558</td>\n",
       "    </tr>\n",
       "  </tbody>\n",
       "</table>\n",
       "</div>"
      ],
      "text/plain": [
       "         SARIMA  WMES     FFANN       RBF  L&NL ANN   Model 1   Model 2\n",
       "RMSE   0.153339   0.0  0.161277  0.114311  0.355798  0.319626  0.119180\n",
       "MAPE   0.147982   0.0  0.217652  0.135739  0.255313  0.254792  0.160511\n",
       "MdAPE  0.087893   0.0  0.198165  0.122787  0.146354  0.145344  0.139695\n",
       "DA     0.789474   0.0  0.345614  0.619298  0.568203  0.533333  0.575558"
      ]
     },
     "execution_count": 17,
     "metadata": {},
     "output_type": "execute_result"
    }
   ],
   "source": [
    "for i, model_name in enumerate(model_names):\n",
    "    df_metrics[model_name] = np.mean(metrics[i], axis = 1)\n",
    "df_metrics"
   ]
  },
  {
   "cell_type": "markdown",
   "metadata": {},
   "source": [
    "# Median"
   ]
  },
  {
   "cell_type": "code",
   "execution_count": 18,
   "metadata": {},
   "outputs": [
    {
     "data": {
      "text/html": [
       "<div>\n",
       "<style scoped>\n",
       "    .dataframe tbody tr th:only-of-type {\n",
       "        vertical-align: middle;\n",
       "    }\n",
       "\n",
       "    .dataframe tbody tr th {\n",
       "        vertical-align: top;\n",
       "    }\n",
       "\n",
       "    .dataframe thead th {\n",
       "        text-align: right;\n",
       "    }\n",
       "</style>\n",
       "<table border=\"1\" class=\"dataframe\">\n",
       "  <thead>\n",
       "    <tr style=\"text-align: right;\">\n",
       "      <th></th>\n",
       "      <th>SARIMA</th>\n",
       "      <th>WMES</th>\n",
       "      <th>FFANN</th>\n",
       "      <th>RBF</th>\n",
       "      <th>L&amp;NL ANN</th>\n",
       "      <th>Model 1</th>\n",
       "      <th>Model 2</th>\n",
       "    </tr>\n",
       "  </thead>\n",
       "  <tbody>\n",
       "    <tr>\n",
       "      <th>RMSE</th>\n",
       "      <td>0.153339</td>\n",
       "      <td>0.0</td>\n",
       "      <td>0.151986</td>\n",
       "      <td>0.107388</td>\n",
       "      <td>0.127533</td>\n",
       "      <td>0.103245</td>\n",
       "      <td>0.120705</td>\n",
       "    </tr>\n",
       "    <tr>\n",
       "      <th>MAPE</th>\n",
       "      <td>0.147982</td>\n",
       "      <td>0.0</td>\n",
       "      <td>0.199685</td>\n",
       "      <td>0.127235</td>\n",
       "      <td>0.165169</td>\n",
       "      <td>0.138650</td>\n",
       "      <td>0.150751</td>\n",
       "    </tr>\n",
       "    <tr>\n",
       "      <th>MdAPE</th>\n",
       "      <td>0.087893</td>\n",
       "      <td>0.0</td>\n",
       "      <td>0.180278</td>\n",
       "      <td>0.115558</td>\n",
       "      <td>0.127000</td>\n",
       "      <td>0.139018</td>\n",
       "      <td>0.129896</td>\n",
       "    </tr>\n",
       "    <tr>\n",
       "      <th>DA</th>\n",
       "      <td>0.789474</td>\n",
       "      <td>0.0</td>\n",
       "      <td>0.256579</td>\n",
       "      <td>0.526316</td>\n",
       "      <td>0.647059</td>\n",
       "      <td>0.625000</td>\n",
       "      <td>0.647059</td>\n",
       "    </tr>\n",
       "  </tbody>\n",
       "</table>\n",
       "</div>"
      ],
      "text/plain": [
       "         SARIMA  WMES     FFANN       RBF  L&NL ANN   Model 1   Model 2\n",
       "RMSE   0.153339   0.0  0.151986  0.107388  0.127533  0.103245  0.120705\n",
       "MAPE   0.147982   0.0  0.199685  0.127235  0.165169  0.138650  0.150751\n",
       "MdAPE  0.087893   0.0  0.180278  0.115558  0.127000  0.139018  0.129896\n",
       "DA     0.789474   0.0  0.256579  0.526316  0.647059  0.625000  0.647059"
      ]
     },
     "execution_count": 18,
     "metadata": {},
     "output_type": "execute_result"
    }
   ],
   "source": [
    "for i, model_name in enumerate(model_names):\n",
    "    df_metrics[model_name] = np.median(metrics[i], axis = 1)\n",
    "df_metrics"
   ]
  },
  {
   "cell_type": "markdown",
   "metadata": {},
   "source": [
    "# Minimum"
   ]
  },
  {
   "cell_type": "code",
   "execution_count": 20,
   "metadata": {},
   "outputs": [
    {
     "data": {
      "text/html": [
       "<div>\n",
       "<style scoped>\n",
       "    .dataframe tbody tr th:only-of-type {\n",
       "        vertical-align: middle;\n",
       "    }\n",
       "\n",
       "    .dataframe tbody tr th {\n",
       "        vertical-align: top;\n",
       "    }\n",
       "\n",
       "    .dataframe thead th {\n",
       "        text-align: right;\n",
       "    }\n",
       "</style>\n",
       "<table border=\"1\" class=\"dataframe\">\n",
       "  <thead>\n",
       "    <tr style=\"text-align: right;\">\n",
       "      <th></th>\n",
       "      <th>SARIMA</th>\n",
       "      <th>WMES</th>\n",
       "      <th>FFANN</th>\n",
       "      <th>RBF</th>\n",
       "      <th>L&amp;NL ANN</th>\n",
       "      <th>Model 1</th>\n",
       "      <th>Model 2</th>\n",
       "    </tr>\n",
       "  </thead>\n",
       "  <tbody>\n",
       "    <tr>\n",
       "      <th>RMSE</th>\n",
       "      <td>0.153339</td>\n",
       "      <td>0.0</td>\n",
       "      <td>0.058296</td>\n",
       "      <td>0.068430</td>\n",
       "      <td>0.063102</td>\n",
       "      <td>0.062604</td>\n",
       "      <td>0.068094</td>\n",
       "    </tr>\n",
       "    <tr>\n",
       "      <th>MAPE</th>\n",
       "      <td>0.147982</td>\n",
       "      <td>0.0</td>\n",
       "      <td>0.063102</td>\n",
       "      <td>0.079355</td>\n",
       "      <td>0.080736</td>\n",
       "      <td>0.080043</td>\n",
       "      <td>0.087867</td>\n",
       "    </tr>\n",
       "    <tr>\n",
       "      <th>MdAPE</th>\n",
       "      <td>0.087893</td>\n",
       "      <td>0.0</td>\n",
       "      <td>0.047308</td>\n",
       "      <td>0.073746</td>\n",
       "      <td>0.062230</td>\n",
       "      <td>0.053509</td>\n",
       "      <td>0.061869</td>\n",
       "    </tr>\n",
       "    <tr>\n",
       "      <th>DA</th>\n",
       "      <td>0.789474</td>\n",
       "      <td>0.0</td>\n",
       "      <td>-0.100000</td>\n",
       "      <td>0.210526</td>\n",
       "      <td>0.052632</td>\n",
       "      <td>0.000000</td>\n",
       "      <td>0.111111</td>\n",
       "    </tr>\n",
       "  </tbody>\n",
       "</table>\n",
       "</div>"
      ],
      "text/plain": [
       "         SARIMA  WMES     FFANN       RBF  L&NL ANN   Model 1   Model 2\n",
       "RMSE   0.153339   0.0  0.058296  0.068430  0.063102  0.062604  0.068094\n",
       "MAPE   0.147982   0.0  0.063102  0.079355  0.080736  0.080043  0.087867\n",
       "MdAPE  0.087893   0.0  0.047308  0.073746  0.062230  0.053509  0.061869\n",
       "DA     0.789474   0.0 -0.100000  0.210526  0.052632  0.000000  0.111111"
      ]
     },
     "execution_count": 20,
     "metadata": {},
     "output_type": "execute_result"
    }
   ],
   "source": [
    "for i, model_name in enumerate(model_names):\n",
    "    df_metrics[model_name] = np.min(metrics[i], axis = 1)\n",
    "df_metrics"
   ]
  },
  {
   "cell_type": "markdown",
   "metadata": {},
   "source": [
    "# Statistical test (Friedman)"
   ]
  },
  {
   "cell_type": "code",
   "execution_count": 21,
   "metadata": {},
   "outputs": [],
   "source": [
    "from scipy.stats import friedmanchisquare"
   ]
  },
  {
   "cell_type": "code",
   "execution_count": 22,
   "metadata": {},
   "outputs": [
    {
     "data": {
      "text/plain": [
       "FriedmanchisquareResult(statistic=0.46666666666664014, pvalue=0.7918895663367922)"
      ]
     },
     "execution_count": 22,
     "metadata": {},
     "output_type": "execute_result"
    }
   ],
   "source": [
    "friedmanchisquare(lnl_metrics[0, :], model1_metrics[0, :], model2_metrics[0, :])"
   ]
  },
  {
   "cell_type": "code",
   "execution_count": null,
   "metadata": {},
   "outputs": [],
   "source": []
  },
  {
   "cell_type": "code",
   "execution_count": null,
   "metadata": {},
   "outputs": [],
   "source": []
  }
 ],
 "metadata": {
  "kernelspec": {
   "display_name": "Python 3",
   "language": "python",
   "name": "python3"
  },
  "language_info": {
   "codemirror_mode": {
    "name": "ipython",
    "version": 3
   },
   "file_extension": ".py",
   "mimetype": "text/x-python",
   "name": "python",
   "nbconvert_exporter": "python",
   "pygments_lexer": "ipython3",
   "version": "3.6.9"
  }
 },
 "nbformat": 4,
 "nbformat_minor": 4
}
