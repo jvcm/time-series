{
 "cells": [
  {
   "cell_type": "code",
   "execution_count": 1,
   "metadata": {},
   "outputs": [],
   "source": [
    "import numpy as np\n",
    "import pandas as pd\n",
    "import matplotlib.pyplot as plt\n",
    "import seaborn as sns\n",
    "sns.set()\n",
    "import os\n",
    "from functions import *"
   ]
  },
  {
   "cell_type": "code",
   "execution_count": 2,
   "metadata": {},
   "outputs": [],
   "source": [
    "input_noise = 2\n",
    "n_models = 40\n",
    "n_metrics = 4"
   ]
  },
  {
   "cell_type": "code",
   "execution_count": 3,
   "metadata": {},
   "outputs": [
    {
     "data": {
      "text/plain": [
       "['Stock', 'Beer', 'Lynx']"
      ]
     },
     "execution_count": 3,
     "metadata": {},
     "output_type": "execute_result"
    }
   ],
   "source": [
    "os.listdir('./results/')"
   ]
  },
  {
   "cell_type": "code",
   "execution_count": 7,
   "metadata": {},
   "outputs": [],
   "source": [
    "path = './results/'\n",
    "name = 'Stock/'"
   ]
  },
  {
   "cell_type": "code",
   "execution_count": 8,
   "metadata": {},
   "outputs": [],
   "source": [
    "lnl = pd.read_csv(path + name + 'lnl.csv')\n",
    "model1 = pd.read_csv(path + name + 'model1.csv')\n",
    "model2 = pd.read_csv(path + name + 'model2.csv')\n",
    "rbf = pd.read_csv(path + name + 'rbf.csv')\n",
    "ffann = pd.read_csv(path + name + 'ffann.csv')\n",
    "others = pd.read_csv(path + name + 'other.csv')\n",
    "y = others['Y_true'].values\n",
    "sarima = others['SARIMA'].values\n",
    "# wmes = others['WMES'].values"
   ]
  },
  {
   "cell_type": "code",
   "execution_count": 9,
   "metadata": {},
   "outputs": [],
   "source": [
    "lnl_metrics = np.array([[RMSE(y[input_noise + 1:], lnl.iloc[input_noise + 1:, i]) for i in range(n_models)],\n",
    "                [MAPE(y[input_noise + 1:], lnl.iloc[input_noise + 1:, i]) for i in range(n_models)]])\n",
    "\n",
    "model1_metrics = np.array([[RMSE(y[input_noise + 1:], model1.iloc[:, i]) for i in range(n_models)],\n",
    "                [MAPE(y[input_noise + 1:], model1.iloc[:, i]) for i in range(n_models)]])\n",
    "\n",
    "model2_metrics = np.array([[RMSE(y[input_noise + 1:], model2.iloc[input_noise:, i]) for i in range(n_models)],\n",
    "                [MAPE(y[input_noise + 1:], model2.iloc[input_noise:, i]) for i in range(n_models)]])\n",
    "\n",
    "ffann_metrics = np.array([[RMSE(y, ffann.iloc[:, i]) for i in range(n_models)],\n",
    "                [MAPE(y, ffann.iloc[:, i]) for i in range(n_models)]])\n",
    "\n",
    "rbf_metrics = np.array([[RMSE(y, rbf.iloc[:, i]) for i in range(n_models)],\n",
    "                [MAPE(y, rbf.iloc[:, i]) for i in range(n_models)]])\n",
    "\n",
    "sarima_metrics = np.array([RMSE(y, sarima), MAPE(y, sarima)])\n",
    "\n",
    "# wmes_metrics = np.array([RMSE(y, wmes), MAPE(y, wmes), MdAPE(y, wmes), DA(y, wmes)])"
   ]
  },
  {
   "cell_type": "code",
   "execution_count": 16,
   "metadata": {},
   "outputs": [],
   "source": [
    "n_sample = 30\n",
    "rmse = [sarima_metrics[0],\n",
    "           np.sort(ffann_metrics[0])[:n_sample],\n",
    "           np.sort(rbf_metrics[0])[:n_sample],\n",
    "           np.sort(lnl_metrics[0])[:n_sample],\n",
    "           np.sort(model1_metrics[0])[:n_sample],\n",
    "           np.sort(model2_metrics[0])[:n_sample]]"
   ]
  },
  {
   "cell_type": "code",
   "execution_count": 17,
   "metadata": {},
   "outputs": [],
   "source": [
    "model_names = ['SARIMA', 'FFANN', 'RBF', 'L&NL ANN', 'Model 1', 'Model 2']\n",
    "df_metrics = pd.DataFrame(data= np.zeros((3, len(model_names))), index = ['Mean', 'Median', 'Minimum'],\n",
    "                          columns= model_names)\n",
    "df_metrics['SARIMA'] = rmse[0]\n",
    "# df_metrics['WMES'] = wmes_metrics"
   ]
  },
  {
   "cell_type": "markdown",
   "metadata": {},
   "source": [
    "# RMSE"
   ]
  },
  {
   "cell_type": "code",
   "execution_count": 18,
   "metadata": {},
   "outputs": [
    {
     "data": {
      "text/html": [
       "<div>\n",
       "<style scoped>\n",
       "    .dataframe tbody tr th:only-of-type {\n",
       "        vertical-align: middle;\n",
       "    }\n",
       "\n",
       "    .dataframe tbody tr th {\n",
       "        vertical-align: top;\n",
       "    }\n",
       "\n",
       "    .dataframe thead th {\n",
       "        text-align: right;\n",
       "    }\n",
       "</style>\n",
       "<table border=\"1\" class=\"dataframe\">\n",
       "  <thead>\n",
       "    <tr style=\"text-align: right;\">\n",
       "      <th></th>\n",
       "      <th>SARIMA</th>\n",
       "      <th>FFANN</th>\n",
       "      <th>RBF</th>\n",
       "      <th>L&amp;NL ANN</th>\n",
       "      <th>Model 1</th>\n",
       "      <th>Model 2</th>\n",
       "    </tr>\n",
       "  </thead>\n",
       "  <tbody>\n",
       "    <tr>\n",
       "      <th>Mean</th>\n",
       "      <td>0.071381</td>\n",
       "      <td>0.383215</td>\n",
       "      <td>0.659546</td>\n",
       "      <td>0.955536</td>\n",
       "      <td>4.756295</td>\n",
       "      <td>12.372820</td>\n",
       "    </tr>\n",
       "    <tr>\n",
       "      <th>Median</th>\n",
       "      <td>0.071381</td>\n",
       "      <td>0.438167</td>\n",
       "      <td>0.665102</td>\n",
       "      <td>0.211036</td>\n",
       "      <td>0.577426</td>\n",
       "      <td>0.550678</td>\n",
       "    </tr>\n",
       "    <tr>\n",
       "      <th>Minimum</th>\n",
       "      <td>0.071381</td>\n",
       "      <td>0.067734</td>\n",
       "      <td>0.618112</td>\n",
       "      <td>0.066868</td>\n",
       "      <td>0.071611</td>\n",
       "      <td>0.066484</td>\n",
       "    </tr>\n",
       "  </tbody>\n",
       "</table>\n",
       "</div>"
      ],
      "text/plain": [
       "           SARIMA     FFANN       RBF  L&NL ANN   Model 1    Model 2\n",
       "Mean     0.071381  0.383215  0.659546  0.955536  4.756295  12.372820\n",
       "Median   0.071381  0.438167  0.665102  0.211036  0.577426   0.550678\n",
       "Minimum  0.071381  0.067734  0.618112  0.066868  0.071611   0.066484"
      ]
     },
     "execution_count": 18,
     "metadata": {},
     "output_type": "execute_result"
    }
   ],
   "source": [
    "for i, model in enumerate(rmse[1:]):\n",
    "    df_metrics[model_names[i+1]] = [rmse[i+1].mean(), np.median(rmse[i+1]), rmse[i+1].min()]\n",
    "df_metrics"
   ]
  },
  {
   "cell_type": "markdown",
   "metadata": {},
   "source": [
    "# Statistical test (Friedman)"
   ]
  },
  {
   "cell_type": "code",
   "execution_count": null,
   "metadata": {},
   "outputs": [],
   "source": [
    "from scipy.stats import friedmanchisquare"
   ]
  },
  {
   "cell_type": "code",
   "execution_count": null,
   "metadata": {},
   "outputs": [],
   "source": [
    "friedmanchisquare(lnl_metrics[0, :], model1_metrics[0, :], model2_metrics[0, :])"
   ]
  },
  {
   "cell_type": "code",
   "execution_count": null,
   "metadata": {},
   "outputs": [],
   "source": []
  },
  {
   "cell_type": "code",
   "execution_count": null,
   "metadata": {},
   "outputs": [],
   "source": []
  }
 ],
 "metadata": {
  "kernelspec": {
   "display_name": "Python 3",
   "language": "python",
   "name": "python3"
  },
  "language_info": {
   "codemirror_mode": {
    "name": "ipython",
    "version": 3
   },
   "file_extension": ".py",
   "mimetype": "text/x-python",
   "name": "python",
   "nbconvert_exporter": "python",
   "pygments_lexer": "ipython3",
   "version": "3.6.9"
  }
 },
 "nbformat": 4,
 "nbformat_minor": 4
}
