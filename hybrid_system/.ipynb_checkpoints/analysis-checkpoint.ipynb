{
 "cells": [
  {
   "cell_type": "code",
   "execution_count": null,
   "metadata": {},
   "outputs": [],
   "source": [
    "import pandas as pd\n",
    "import numpy as np\n",
    "from sklearn.metrics import mean_squared_error\n",
    "import math\n",
    "import random\n",
    "import functions\n",
    "import hybrid_ann\n",
    "import matplotlib.pyplot as plt\n",
    "\n",
    "df = pd.read_csv('lynx.csv')\n",
    "data = df.iloc[:, -1].values\n",
    "\n",
    "serie_normal = functions.normalizar_serie(data)\n",
    "serie_lags = functions.gerar_janelas(tam_janela = 5, serie = serie_normal)\n",
    "X_train, y_train, X_test, y_test = functions.split_serie_with_lags(serie = serie_lags, perc_train = 0.8, perc_val = 0)\n",
    "\n",
    "model = hybrid_ann.Hybrid_ANN(m = 5)\n",
    "\n",
    "# c = np.zeros(2)\n",
    "# best_mse = np.inf\n",
    "# best_weight = []\n",
    "# for c1 in [0.5, 1.0, 1.5, 2.0, 2.5, 3.0]:\n",
    "# \tfor c2 in [0.5, 1.0, 1.5, 2.0, 2.5, 3.0]:\n",
    "# \t\tmodel.fit_MPSO(X = X_train, y = y_train, d= 30,\n",
    "# \t\t\tc1 = c1, c2 = c2 ,w1 = 1.0, w2 = 2.0, maxt = 2000)\n",
    "# \t\ty_pred = model.predict(X_test)\n",
    "# \t\ttemp_mse = mean_squared_error(y_test, y_pred)\n",
    "# \t\tif temp_mse < best_mse:\n",
    "# \t\t\tbest_mse = temp_mse\n",
    "# \t\t\tbest_weight = model.weight[:]\n",
    "# \t\t\tc[0] = c1\n",
    "# \t\t\tc[1] = c2\n",
    "\n",
    "# print('Best MSE:',best_mse,'c1:',c[0],'c2:',c[1])\n",
    "\n",
    "model.fit_MPSO(X = X_train, y = y_train, d= 30,\n",
    "\tc1i = 1.0, c1f = 2.0, c2i = 1.0, c2f = 2.0, maxt = 2000)\n",
    "y_pred = model.predict(X_test)\n",
    "# print('Prediction:', y_pred)\n",
    "# print('Test:', y_test)\n",
    "\n",
    "plt.plot(y_test, label = 'Original')\n",
    "plt.plot(y_pred, label = 'Prediction', color = 'red')\n",
    "plt.legend()\n",
    "plt.show()"
   ]
  },
  {
   "cell_type": "code",
   "execution_count": null,
   "metadata": {},
   "outputs": [],
   "source": []
  }
 ],
 "metadata": {
  "kernelspec": {
   "display_name": "Python 3",
   "language": "python",
   "name": "python3"
  },
  "language_info": {
   "codemirror_mode": {
    "name": "ipython",
    "version": 3
   },
   "file_extension": ".py",
   "mimetype": "text/x-python",
   "name": "python",
   "nbconvert_exporter": "python",
   "pygments_lexer": "ipython3",
   "version": "3.5.2"
  }
 },
 "nbformat": 4,
 "nbformat_minor": 2
}
