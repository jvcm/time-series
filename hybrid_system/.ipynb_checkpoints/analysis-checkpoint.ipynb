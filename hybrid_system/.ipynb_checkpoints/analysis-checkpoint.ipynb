{
 "cells": [
  {
   "cell_type": "code",
   "execution_count": 11,
   "metadata": {},
   "outputs": [],
   "source": [
    "import numpy as np\n",
    "import pandas as pd\n",
    "import matplotlib.pyplot as plt\n",
    "import seaborn as sns\n",
    "sns.set()\n",
    "import os\n",
    "from functions import *"
   ]
  },
  {
   "cell_type": "code",
   "execution_count": 12,
   "metadata": {},
   "outputs": [],
   "source": [
    "input_noise = 2\n",
    "n_models = 40\n",
    "n_metrics = 4"
   ]
  },
  {
   "cell_type": "code",
   "execution_count": 13,
   "metadata": {},
   "outputs": [
    {
     "data": {
      "text/plain": [
       "['Beer']"
      ]
     },
     "execution_count": 13,
     "metadata": {},
     "output_type": "execute_result"
    }
   ],
   "source": [
    "os.listdir('./results/')"
   ]
  },
  {
   "cell_type": "code",
   "execution_count": 14,
   "metadata": {},
   "outputs": [],
   "source": [
    "path = './results/'\n",
    "name = 'Beer/'"
   ]
  },
  {
   "cell_type": "code",
   "execution_count": 15,
   "metadata": {},
   "outputs": [],
   "source": [
    "lnl = pd.read_csv(path + name + 'lnl.csv')\n",
    "model1 = pd.read_csv(path + name + 'model1.csv')\n",
    "model2 = pd.read_csv(path + name + 'model2.csv')\n",
    "rbf = pd.read_csv(path + name + 'rbf.csv')\n",
    "ffann = pd.read_csv(path + name + 'ffann.csv')\n",
    "others = pd.read_csv(path + name + 'other.csv')\n",
    "y = others['Y_true'].values\n",
    "sarima = others['SARIMA'].values\n",
    "# wmes = others['WMES'].values"
   ]
  },
  {
   "cell_type": "code",
   "execution_count": 63,
   "metadata": {},
   "outputs": [],
   "source": [
    "lnl_metrics = np.array([[RMSE(y[input_noise + 1:], lnl.iloc[input_noise + 1:, i]) for i in range(n_models)],\n",
    "                [MAPE(y[input_noise + 1:], lnl.iloc[input_noise + 1:, i]) for i in range(n_models)]])\n",
    "\n",
    "model1_metrics = np.array([[RMSE(y[input_noise + 1:], model1.iloc[:, i]) for i in range(n_models)],\n",
    "                [MAPE(y[input_noise + 1:], model1.iloc[:, i]) for i in range(n_models)]])\n",
    "\n",
    "model2_metrics = np.array([[RMSE(y[input_noise + 1:], model2.iloc[input_noise:, i]) for i in range(n_models)],\n",
    "                [MAPE(y[input_noise + 1:], model2.iloc[input_noise:, i]) for i in range(n_models)]])\n",
    "\n",
    "ffann_metrics = np.array([[RMSE(y, ffann.iloc[:, i]) for i in range(n_models)],\n",
    "                [MAPE(y, ffann.iloc[:, i]) for i in range(n_models)]])\n",
    "\n",
    "rbf_metrics = np.array([[RMSE(y, rbf.iloc[:, i]) for i in range(n_models)],\n",
    "                [MAPE(y, rbf.iloc[:, i]) for i in range(n_models)]])\n",
    "\n",
    "sarima_metrics = np.array([RMSE(y, sarima), MAPE(y, sarima)])\n",
    "\n",
    "# wmes_metrics = np.array([RMSE(y, wmes), MAPE(y, wmes), MdAPE(y, wmes), DA(y, wmes)])"
   ]
  },
  {
   "cell_type": "code",
   "execution_count": 72,
   "metadata": {},
   "outputs": [],
   "source": [
    "rmse = [sarima_metrics[0],\n",
    "           np.sort(ffann_metrics[0])[:30],\n",
    "           np.sort(rbf_metrics[0])[:30],\n",
    "           np.sort(lnl_metrics[0])[:30],\n",
    "           np.sort(model1_metrics[0])[:30],\n",
    "           np.sort(model2_metrics[0])[:30]]"
   ]
  },
  {
   "cell_type": "code",
   "execution_count": 79,
   "metadata": {},
   "outputs": [],
   "source": [
    "model_names = ['SARIMA', 'FFANN', 'RBF', 'L&NL ANN', 'Model 1', 'Model 2']\n",
    "df_metrics = pd.DataFrame(data= np.zeros((3, len(model_names))), index = ['Mean', 'Median', 'Minimum'],\n",
    "                          columns= model_names)\n",
    "df_metrics['SARIMA'] = rmse[0]\n",
    "# df_metrics['WMES'] = wmes_metrics"
   ]
  },
  {
   "cell_type": "markdown",
   "metadata": {},
   "source": [
    "# RMSE"
   ]
  },
  {
   "cell_type": "code",
   "execution_count": 90,
   "metadata": {},
   "outputs": [
    {
     "data": {
      "text/html": [
       "<div>\n",
       "<style scoped>\n",
       "    .dataframe tbody tr th:only-of-type {\n",
       "        vertical-align: middle;\n",
       "    }\n",
       "\n",
       "    .dataframe tbody tr th {\n",
       "        vertical-align: top;\n",
       "    }\n",
       "\n",
       "    .dataframe thead th {\n",
       "        text-align: right;\n",
       "    }\n",
       "</style>\n",
       "<table border=\"1\" class=\"dataframe\">\n",
       "  <thead>\n",
       "    <tr style=\"text-align: right;\">\n",
       "      <th></th>\n",
       "      <th>SARIMA</th>\n",
       "      <th>FFANN</th>\n",
       "      <th>RBF</th>\n",
       "      <th>L&amp;NL ANN</th>\n",
       "      <th>Model 1</th>\n",
       "      <th>Model 2</th>\n",
       "    </tr>\n",
       "  </thead>\n",
       "  <tbody>\n",
       "    <tr>\n",
       "      <th>Mean</th>\n",
       "      <td>0.153339</td>\n",
       "      <td>0.133254</td>\n",
       "      <td>0.110381</td>\n",
       "      <td>0.116069</td>\n",
       "      <td>0.110360</td>\n",
       "      <td>0.103082</td>\n",
       "    </tr>\n",
       "    <tr>\n",
       "      <th>Median</th>\n",
       "      <td>0.153339</td>\n",
       "      <td>0.136477</td>\n",
       "      <td>0.111333</td>\n",
       "      <td>0.112638</td>\n",
       "      <td>0.109447</td>\n",
       "      <td>0.101621</td>\n",
       "    </tr>\n",
       "    <tr>\n",
       "      <th>Minimum</th>\n",
       "      <td>0.153339</td>\n",
       "      <td>0.067615</td>\n",
       "      <td>0.073484</td>\n",
       "      <td>0.056764</td>\n",
       "      <td>0.056407</td>\n",
       "      <td>0.055318</td>\n",
       "    </tr>\n",
       "  </tbody>\n",
       "</table>\n",
       "</div>"
      ],
      "text/plain": [
       "           SARIMA     FFANN       RBF  L&NL ANN   Model 1   Model 2\n",
       "Mean     0.153339  0.133254  0.110381  0.116069  0.110360  0.103082\n",
       "Median   0.153339  0.136477  0.111333  0.112638  0.109447  0.101621\n",
       "Minimum  0.153339  0.067615  0.073484  0.056764  0.056407  0.055318"
      ]
     },
     "execution_count": 90,
     "metadata": {},
     "output_type": "execute_result"
    }
   ],
   "source": [
    "for i, model in enumerate(rmse[1:]):\n",
    "    df_metrics[model_names[i+1]] = [rmse[i+1].mean(), np.median(rmse[i+1]), rmse[i+1].min()]\n",
    "df_metrics"
   ]
  },
  {
   "cell_type": "markdown",
   "metadata": {},
   "source": [
    "# Statistical test (Friedman)"
   ]
  },
  {
   "cell_type": "code",
   "execution_count": null,
   "metadata": {},
   "outputs": [],
   "source": [
    "from scipy.stats import friedmanchisquare"
   ]
  },
  {
   "cell_type": "code",
   "execution_count": null,
   "metadata": {},
   "outputs": [],
   "source": [
    "friedmanchisquare(lnl_metrics[0, :], model1_metrics[0, :], model2_metrics[0, :])"
   ]
  },
  {
   "cell_type": "code",
   "execution_count": null,
   "metadata": {},
   "outputs": [],
   "source": []
  },
  {
   "cell_type": "code",
   "execution_count": null,
   "metadata": {},
   "outputs": [],
   "source": []
  }
 ],
 "metadata": {
  "kernelspec": {
   "display_name": "Python 3",
   "language": "python",
   "name": "python3"
  },
  "language_info": {
   "codemirror_mode": {
    "name": "ipython",
    "version": 3
   },
   "file_extension": ".py",
   "mimetype": "text/x-python",
   "name": "python",
   "nbconvert_exporter": "python",
   "pygments_lexer": "ipython3",
   "version": "3.6.9"
  }
 },
 "nbformat": 4,
 "nbformat_minor": 4
}
