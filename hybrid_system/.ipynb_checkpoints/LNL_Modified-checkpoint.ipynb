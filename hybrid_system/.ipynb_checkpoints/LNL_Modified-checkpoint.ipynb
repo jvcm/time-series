{
 "cells": [
  {
   "cell_type": "code",
   "execution_count": 3,
   "metadata": {},
   "outputs": [],
   "source": [
    "import pandas as pd\n",
    "import numpy as np\n",
    "from sklearn.metrics import mean_squared_error\n",
    "import math\n",
    "import random\n",
    "import functions\n",
    "from error_functions import *\n",
    "import LNL_model_modified\n",
    "import hybrid_ann\n",
    "import matplotlib.pyplot as plt\n",
    "from sklearn.neural_network import MLPRegressor\n",
    "import statsmodels.api as sm\n",
    "import seaborn as sns\n",
    "sns.set()\n",
    "from matplotlib.pylab import rcParams\n",
    "import glob\n",
    "\n",
    "rcParams['figure.figsize'] = 16, 8\n",
    "\n",
    "import warnings\n",
    "warnings.filterwarnings('ignore')"
   ]
  },
  {
   "cell_type": "markdown",
   "metadata": {},
   "source": [
    "# Pre processing"
   ]
  },
  {
   "cell_type": "code",
   "execution_count": 4,
   "metadata": {},
   "outputs": [],
   "source": [
    "selected = './data/'\n",
    "\n",
    "dbs = glob.glob(selected + '*.txt')"
   ]
  },
  {
   "cell_type": "code",
   "execution_count": null,
   "metadata": {},
   "outputs": [],
   "source": [
    "nome_serie = 'airlines'\n",
    "arquivo = nome_serie + '.txt'\n",
    "df = pd.read_csv('./data/' + arquivo, sep = '\\t', header = None)\n",
    "data = df.iloc[:, -1].values\n",
    "\n",
    "serie_normal = functions.normalizar_serie(data)\n",
    "max_lag = 10\n",
    "lags_acf = functions.select_lag_acf(serie_normal, max_lag)\n",
    "max_sel_lag = lags_acf[0]"
   ]
  },
  {
   "cell_type": "markdown",
   "metadata": {},
   "source": [
    "# Gridsearch for best model"
   ]
  },
  {
   "cell_type": "code",
   "execution_count": null,
   "metadata": {},
   "outputs": [],
   "source": [
    "serie_lags = functions.gerar_janelas(tam_janela = max_sel_lag+1, serie = serie_normal) #Sem normalizar\n",
    "X_train, y_train, X_test, y_test = functions.split_serie_with_lags(serie = serie_lags, perc_train = 0.7)\n",
    "\n",
    "#utiliza apenas os lags selecionados pelo o ACF\n",
    "X_train = X_train[:, lags_acf]\n",
    "X_test = X_test[:, lags_acf]"
   ]
  },
  {
   "cell_type": "code",
   "execution_count": null,
   "metadata": {},
   "outputs": [],
   "source": [
    "epochs = 10\n",
    "n_particles = 30\n",
    "modelos = []\n",
    "MSE_teste = []\n",
    "MAE_teste = []\n",
    "MAPE_teste = []\n",
    "ARV_teste = []\n",
    "\n",
    "for i in range(0, 10):\n",
    "    model = LNL_model_modified.LNL_ANN(m = len(lags_acf), z=2)\n",
    "    model.fit_MPSO(X_train, y_train, n_particles,\n",
    "                   c1 = 1.5, c2 = 1.5,\n",
    "                   w1 = 0.4, w2 = 0.9, maxt = epochs)\n",
    "    modelos.append(model)    \n",
    "    y_pred = model.predict(X_test)\n",
    "    test_mse = mean_squared_error(y_test, y_pred)\n",
    "    test_mae = mean_absolute_error(y_test, y_pred)\n",
    "    test_mape = mean_absolute_percentage_error(y_test, y_pred)\n",
    "    test_arv = average_relative_variance(y_test, y_pred)\n",
    "#     print(test_mse)\n",
    "    MSE_teste.append(test_mse)\n",
    "    MAE_teste.append(test_mae)\n",
    "    MAPE_teste.append(test_mape)\n",
    "    ARV_teste.append(test_arv)"
   ]
  },
  {
   "cell_type": "code",
   "execution_count": null,
   "metadata": {},
   "outputs": [],
   "source": [
    "#melhor modelo das N iterações\n",
    "indices = range(0, len(MSE_teste))    \n",
    "valores_ordenados, indices = zip(*sorted(zip(MSE_teste, indices)))\n",
    "best_model = modelos[indices[0]]"
   ]
  },
  {
   "cell_type": "code",
   "execution_count": null,
   "metadata": {},
   "outputs": [],
   "source": []
  },
  {
   "cell_type": "code",
   "execution_count": null,
   "metadata": {},
   "outputs": [],
   "source": [
    "previsoes = []\n",
    "for i in range(0, 10):\n",
    "    model = modelos[i]\n",
    "    y_pred = model.predict(X_test)\n",
    "    previsoes.append(y_pred)\n",
    "    \n",
    "    "
   ]
  },
  {
   "cell_type": "code",
   "execution_count": null,
   "metadata": {},
   "outputs": [],
   "source": []
  },
  {
   "cell_type": "code",
   "execution_count": null,
   "metadata": {
    "scrolled": true
   },
   "outputs": [],
   "source": [
    "previsoes_np = np.array(previsoes)\n",
    "previsoes_pd = pd.DataFrame(previsoes_np)\n",
    "previsoes_pd = previsoes_pd.transpose()\n",
    "target_pd = pd.DataFrame(y_test)"
   ]
  },
  {
   "cell_type": "code",
   "execution_count": null,
   "metadata": {},
   "outputs": [],
   "source": [
    "metrics = pd.DataFrame(data = {'MSE': MSE_teste, 'MAE': MAE_teste, 'MAPE': MAPE_teste, 'ARV': ARV_teste})\n",
    "\n",
    "d = target_pd.astype(float)\n",
    "d2 = previsoes_pd.astype(float)\n",
    "metrics = metrics.astype(float)\n",
    "\n",
    "name_save_result = './results/' + nome_serie + '_previsoes_PropostoArtigo.xlsx'\n",
    "writer = pd.ExcelWriter(name_save_result)\n",
    "d.to_excel(writer,'Target')\n",
    "d2.to_excel(writer, 'Predict')\n",
    "metrics.to_excel(writer,'Metrics test')\n",
    "\n",
    "writer.save()"
   ]
  },
  {
   "cell_type": "code",
   "execution_count": null,
   "metadata": {},
   "outputs": [],
   "source": [
    "arquivo_salvar = './results/' + nome_serie+\"_Modelo_proposto.txt\"\n",
    "f = open(arquivo_salvar, \"a+\")\n",
    "f.write('----------------- Modelo -----------------')\n",
    "f.write('\\n\\nSuper particle = ' + repr(best_model.weight))\n",
    "\n",
    "f.close()"
   ]
  },
  {
   "cell_type": "code",
   "execution_count": null,
   "metadata": {},
   "outputs": [],
   "source": []
  }
 ],
 "metadata": {
  "kernelspec": {
   "display_name": "Python 3",
   "language": "python",
   "name": "python3"
  },
  "language_info": {
   "codemirror_mode": {
    "name": "ipython",
    "version": 3
   },
   "file_extension": ".py",
   "mimetype": "text/x-python",
   "name": "python",
   "nbconvert_exporter": "python",
   "pygments_lexer": "ipython3",
   "version": "3.6.7"
  }
 },
 "nbformat": 4,
 "nbformat_minor": 2
}
