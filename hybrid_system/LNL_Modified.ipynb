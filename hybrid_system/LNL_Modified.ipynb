{
 "cells": [
  {
   "cell_type": "code",
   "execution_count": 1,
   "metadata": {},
   "outputs": [],
   "source": [
    "import pandas as pd\n",
    "import numpy as np\n",
    "from sklearn.metrics import mean_squared_error\n",
    "import math\n",
    "import random\n",
    "import functions\n",
    "import LNL_model_modified\n",
    "import matplotlib.pyplot as plt\n",
    "from RBF import RBF\n",
    "from sklearn.neural_network import MLPRegressor\n",
    "from statsmodels.tsa.api import ExponentialSmoothing, SimpleExpSmoothing, Holt\n",
    "import statsmodels.api as sm\n",
    "import seaborn as sns\n",
    "sns.set()\n",
    "from matplotlib.pylab import rcParams\n",
    "\n",
    "rcParams['figure.figsize'] = 16, 8"
   ]
  },
  {
   "cell_type": "markdown",
   "metadata": {},
   "source": [
    "# Pre processing"
   ]
  },
  {
   "cell_type": "code",
   "execution_count": 2,
   "metadata": {},
   "outputs": [],
   "source": [
    "df = pd.read_csv('beer.csv')\n",
    "data = df.iloc[:, -1].values\n",
    "\n",
    "ent = 8\n",
    "\n",
    "serie_normal = functions.normalizar_serie(data)\n",
    "serie_lags = functions.gerar_janelas(tam_janela = ent, serie = serie_normal)\n",
    "X_train, y_train, X_test, y_test = functions.split_serie_with_lags(serie = serie_lags, perc_train = 0.86, perc_val = 0)"
   ]
  },
  {
   "cell_type": "markdown",
   "metadata": {},
   "source": [
    "# Gridsearch for best model"
   ]
  },
  {
   "cell_type": "code",
   "execution_count": 3,
   "metadata": {},
   "outputs": [],
   "source": [
    "# MPSO Parameters\n",
    "C1 = [2.0, 4.0, 6.0, 8.0]\n",
    "C2 = [2.0, 4.0, 6.0, 8.0]\n",
    "W = [0.3, 0.5, 0.7, 0.9]\n",
    "epochs = 8000\n",
    "n_particles = 50"
   ]
  },
  {
   "cell_type": "code",
   "execution_count": null,
   "metadata": {},
   "outputs": [],
   "source": [
    "#Gridsearch\n",
    "best_mse = np.Inf\n",
    "for i, c1 in enumerate(C1):\n",
    "    for j, c2 in enumerate(C2):\n",
    "        for k, w in enumerate(W):\n",
    "            model = LNL_model_modified.LNL_ANN(m = ent, z = 2)\n",
    "            model.fit_MPSO(X_train, y_train, d= n_particles,\n",
    "                           c1i = 1.0, c1f = c1, c2i = 1.0, c2f = c2,\n",
    "                           w1 = 0.1, w2 = w, maxt = epochs)\n",
    "            if model.MSE_gBest[-1] < best_mse:\n",
    "                best_mse = model.MSE_gBest[-1]\n",
    "                best_model = model\n",
    "                best_params = [c1, c2, w]"
   ]
  }
 ],
 "metadata": {
  "kernelspec": {
   "display_name": "Python 3",
   "language": "python",
   "name": "python3"
  },
  "language_info": {
   "codemirror_mode": {
    "name": "ipython",
    "version": 3
   },
   "file_extension": ".py",
   "mimetype": "text/x-python",
   "name": "python",
   "nbconvert_exporter": "python",
   "pygments_lexer": "ipython3",
   "version": "3.5.2"
  }
 },
 "nbformat": 4,
 "nbformat_minor": 2
}
